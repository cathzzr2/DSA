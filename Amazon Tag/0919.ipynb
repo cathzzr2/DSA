{
 "cells": [
  {
   "cell_type": "markdown",
   "metadata": {},
   "source": [
    "# 146 LRU Cache \n",
    "\n",
    "Level: Medium\n",
    "\n",
    "Topic: Doubly Linked List, Hash Map\n",
    "\n",
    "Runtime: O(1)\n",
    "\n",
    "Design a data structure that follows the constraints of a Least Recently Used (LRU) cache.\n",
    "\n",
    "Implement the LRUCache class:\n",
    "\n",
    "\n",
    "LRUCache(int capacity) Initialize the LRU cache with positive size capacity.\n",
    "int get(int key) Return the value of the key if the key exists, otherwise return -1.\n",
    "void put(int key, int value) Update the value of the key if the key exists. Otherwise, add the key-value pair to the cache. If the number of keys exceeds the capacity from this operation, evict the least recently used key.\n",
    "The functions get and put must each run in O(1) average time complexity."
   ]
  },
  {
   "cell_type": "code",
   "execution_count": 14,
   "metadata": {},
   "outputs": [],
   "source": [
    "class DLinkedNode:\n",
    "    def __init__(self, key=0, value=0):\n",
    "        self.key = key\n",
    "        self.value = value\n",
    "        self.prev = None\n",
    "        self.next = None\n",
    "\n",
    "class LRUCache:\n",
    "\n",
    "    def __init__(self, capacity: int):\n",
    "        # initialize with positive size capacity\n",
    "        # we assume capacity > 0\n",
    "        self.cache = dict()\n",
    "        self.head = DLinkedNode()\n",
    "        self.tail = DLinkedNode()\n",
    "        self.head.next = self.tail\n",
    "        self.tail.prev = self.head\n",
    "        self.cap = capacity\n",
    "        self.size = 0\n",
    "        \n",
    "    def get(self, key: int) -> int:\n",
    "        # if key exist, return the value of key\n",
    "        # if D.N.E., return -1\n",
    "        # O(1)\n",
    "        if key not in self.cache:\n",
    "            return -1\n",
    "        else:\n",
    "            node = self.cache[key]\n",
    "            val = node.value\n",
    "            self.moveToHead(node) # used and moved\n",
    "            return val\n",
    "\n",
    "    def put(self, key: int, value: int) -> None:\n",
    "        # if ket exists, update the value\n",
    "        # if D.N.E., add key-value to cache\n",
    "        # if # of keys > capacity, evict the least recently used key\n",
    "        # O(1)\n",
    "        if key in self.cache:\n",
    "            node = self.cache[key]\n",
    "            node.value = value # update\n",
    "            self.moveToHead(node) # used and moved\n",
    "        else:\n",
    "            self.size += 1\n",
    "            node = DLinkedNode(key, value)\n",
    "            self.cache[key] = node\n",
    "            self.addToHead(node)\n",
    "            if self.size > self.cap:\n",
    "                removed = self.removeTailLRU() \n",
    "                self.cache.pop(removed.key) # how to remove key in dict()\n",
    "                self.size -= 1\n",
    "    \n",
    "    def removeNode(self, node):\n",
    "        node.prev.next = node.next\n",
    "        node.next.prev = node.prev\n",
    "\n",
    "    def removeTailLRU(self):\n",
    "        removed = self.tail.prev\n",
    "        self.removeNode(removed)\n",
    "        return removed\n",
    "\n",
    "    def addToHead(self, node):\n",
    "        second = self.head.next\n",
    "        self.head.next = node\n",
    "        node.next = second\n",
    "        second.prev = node\n",
    "        node.prev = self.head\n",
    "    \n",
    "    def moveToHead(self, node):\n",
    "        self.removeNode(node)\n",
    "        self.addToHead(node)\n",
    "\n",
    "# Your LRUCache object will be instantiated and called as such:\n",
    "# obj = LRUCache(capacity)\n",
    "# param_1 = obj.get(key)\n",
    "# obj.put(key,value)\n"
   ]
  },
  {
   "cell_type": "code",
   "execution_count": 15,
   "metadata": {},
   "outputs": [
    {
     "name": "stdout",
     "output_type": "stream",
     "text": [
      "None\n",
      "None\n",
      "1\n",
      "None\n",
      "-1\n",
      "None\n",
      "-1\n",
      "3\n",
      "4\n"
     ]
    }
   ],
   "source": [
    "'''\n",
    "Input\n",
    "[\"LRUCache\", \"put\", \"put\", \"get\", \"put\", \"get\", \"put\", \"get\", \"get\", \"get\"]\n",
    "[[2], [1, 1], [2, 2], [1], [3, 3], [2], [4, 4], [1], [3], [4]]\n",
    "Output\n",
    "[null, null, null, 1, null, -1, null, -1, 3, 4]\n",
    "'''\n",
    "obj = LRUCache(2)\n",
    "print(obj.put(1, 1))\n",
    "print(obj.put(2, 2))\n",
    "print(obj.get(1))\n",
    "print(obj.put(3, 3))\n",
    "print(obj.get(2))\n",
    "print(obj.put(4, 4))\n",
    "print(obj.get(1))\n",
    "print(obj.get(3))\n",
    "print(obj.get(4))"
   ]
  },
  {
   "cell_type": "markdown",
   "metadata": {},
   "source": [
    "# 3. Longest Substring Without Repeating Characters\n",
    "\n",
    "Level: Medium\n",
    "\n",
    "Topic: Sliding Window\n",
    "\n",
    "Runtime: O(N)\n",
    "\n",
    "Space: O(N)\n",
    "\n",
    "Given a string s, find the length of the longest substring without repeating characters."
   ]
  },
  {
   "cell_type": "code",
   "execution_count": 10,
   "metadata": {},
   "outputs": [],
   "source": [
    "class Solution:\n",
    "    def lengthOfLongestSubstring(self, s: str) -> int:\n",
    "        if not s or len(s) == 0:\n",
    "            return 0\n",
    "        seen = set()\n",
    "        maxSize = 0\n",
    "        left = 0\n",
    "        for right in range(len(s)):\n",
    "            if s[right] in seen:\n",
    "                while s[right] in seen:\n",
    "                    seen.remove(s[left])\n",
    "                    left += 1\n",
    "            seen.add(s[right])\n",
    "            maxSize = max(maxSize, right - left + 1)\n",
    "        return maxSize"
   ]
  },
  {
   "cell_type": "code",
   "execution_count": 16,
   "metadata": {},
   "outputs": [
    {
     "name": "stdout",
     "output_type": "stream",
     "text": [
      "3\n"
     ]
    }
   ],
   "source": [
    "'''\n",
    "Input: s = \"abcabcbb\"\n",
    "Output: 3\n",
    "Explanation: The answer is \"abc\", with the length of 3.\n",
    "'''\n",
    "lenOfLongestSubstring = Solution()\n",
    "print(lenOfLongestSubstring.lengthOfLongestSubstring(\"abcabcbb\")) # 3"
   ]
  },
  {
   "cell_type": "markdown",
   "metadata": {},
   "source": [
    "# 9. Palindrome Number\n",
    "\n",
    "Level: Easy\n",
    "\n",
    "Topic: Math\n",
    "\n",
    "Runtime: O(logN)\n",
    "\n",
    "Space: O(1)\n",
    "\n",
    "Given an integer x, return true if x is a palindrome, and false otherwise."
   ]
  },
  {
   "cell_type": "code",
   "execution_count": 1,
   "metadata": {},
   "outputs": [],
   "source": [
    "class Solution:\n",
    "    def isPalindrome(self, x: int) -> bool:\n",
    "        # edge case: negative or last digit is zero (but x!=0)\n",
    "        n = x\n",
    "        if n < 0:\n",
    "            return False\n",
    "        reverse = 0\n",
    "        while n != 0:\n",
    "            last_digit = n % 10\n",
    "            reverse = reverse * 10 + last_digit \n",
    "            n //= 10 # remove last digit\n",
    "        return reverse == x"
   ]
  },
  {
   "cell_type": "code",
   "execution_count": 2,
   "metadata": {},
   "outputs": [
    {
     "name": "stdout",
     "output_type": "stream",
     "text": [
      "True\n"
     ]
    }
   ],
   "source": [
    "'''\n",
    "Input: x = 121\n",
    "Output: true\n",
    "Explanation: 121 reads as 121 from left to right and from right to left.\n",
    "'''\n",
    "solution = Solution()\n",
    "print(solution.isPalindrome(121))"
   ]
  }
 ],
 "metadata": {
  "kernelspec": {
   "display_name": "Python 3",
   "language": "python",
   "name": "python3"
  },
  "language_info": {
   "codemirror_mode": {
    "name": "ipython",
    "version": 3
   },
   "file_extension": ".py",
   "mimetype": "text/x-python",
   "name": "python",
   "nbconvert_exporter": "python",
   "pygments_lexer": "ipython3",
   "version": "3.11.9"
  }
 },
 "nbformat": 4,
 "nbformat_minor": 2
}

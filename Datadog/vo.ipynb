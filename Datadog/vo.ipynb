{
 "cells": [
  {
   "cell_type": "markdown",
   "metadata": {},
   "source": [
    "# Evaluate Sum of Last K\n",
    "\n",
    "You are given a list of data points, where each data point consists of: a list of tags, a list of timestamps (representing when the values were recorded), and a list of values (corresponding to each timestamp).\n",
    "\n",
    "\n",
    "Your task is to:\n",
    "\n",
    "1. Filter the data points based on a given tag.\n",
    "\n",
    "2. Sort the filtered data points in ascending order by their timestamps.\n",
    "\n",
    "3. Calculate the sum of the last K values from this sorted list.\n",
    "\n"
   ]
  },
  {
   "cell_type": "code",
   "execution_count": 2,
   "metadata": {},
   "outputs": [
    {
     "name": "stdout",
     "output_type": "stream",
     "text": [
      "110\n"
     ]
    }
   ],
   "source": [
    "from typing import Dict, List\n",
    "\n",
    "def evaluate_sum_of_last_k(data, k, tag):\n",
    "    tags = data[\"tag\"]\n",
    "    values = data[\"value\"]\n",
    "    timestamps = data[\"timestamp\"]\n",
    "    if tag in tags:\n",
    "        pairs = list(zip(timestamps, values))\n",
    "        pairs.sort(key=lambda x: x[0]) # sort by timestamp in ascending order\n",
    "        pairs = pairs[-k:]\n",
    "        return sum(pair[1] for pair in pairs)\n",
    "    return 0  # If the tag is not found\n",
    "\n",
    "# Example input\n",
    "data = {\n",
    "    \"tag\": [\"env:prod\", \"prod1\"],\n",
    "    \"timestamp\": [1, 10, 3, 100, 2],\n",
    "    \"value\": [-1, 10, -10, 100, 2]\n",
    "}\n",
    "\n",
    "k = 2\n",
    "tag = \"prod1\"\n",
    "\n",
    "# Call the function with the provided input\n",
    "result = evaluate_sum_of_last_k(data, k, tag)\n",
    "print(result)  # Output: 110"
   ]
  },
  {
   "cell_type": "markdown",
   "metadata": {},
   "source": [
    "# 2 Coin Change\n",
    "\n",
    "You are given an integer array of available coin denominations (coins) and an integer amount (amount). Your goal is to determine the minimum number of coins needed to make up that amount. If it's impossible to make the amount with the given coins, return -1."
   ]
  },
  {
   "cell_type": "code",
   "execution_count": 6,
   "metadata": {},
   "outputs": [
    {
     "name": "stdout",
     "output_type": "stream",
     "text": [
      "3 2\n"
     ]
    }
   ],
   "source": [
    "# Greedy approach (only works for some coin denominations)\n",
    "def coin_change_greedy(coins, amount):\n",
    "    coins.sort(reverse=True)  # Sort coins in descending order\n",
    "    count = 0\n",
    "    for coin in coins:\n",
    "        if amount == 0:\n",
    "            break\n",
    "        count += amount // coin  \n",
    "        amount %= coin           \n",
    "    return count if amount == 0 else -1  \n",
    "\n",
    "# Dynamic Programming (DP) approach (guarantees the optimal solution)\n",
    "def coin_change_dp(coins, amount):\n",
    "    if amount == 0:\n",
    "        return 0\n",
    "    dp = [float(\"inf\")] * (amount+1)\n",
    "    dp[0] = 0 # to have $i money, minimum coins needed\n",
    "    for i in range(1, amount+1):\n",
    "        for coin in coins:\n",
    "            if coin <= i:\n",
    "                dp[i] = min(dp[i], dp[i-coin]+1)\n",
    "    return dp[amount] if dp[amount] != float(\"inf\") else -1\n",
    "\n",
    "# Test both methods with the example [1, 3, 4] coins for amount 6\n",
    "coins = [1, 3, 4]\n",
    "amount = 6\n",
    "\n",
    "# Test Greedy approach\n",
    "result_greedy = coin_change_greedy(coins, amount) # 4, 1, 1\n",
    "\n",
    "# Test DP approach\n",
    "result_dp = coin_change_dp(coins, amount) # 3, 3\n",
    "\n",
    "print(result_greedy, result_dp)"
   ]
  },
  {
   "cell_type": "markdown",
   "metadata": {},
   "source": [
    "# 3 Calculate the File Sizes in a Folder\n",
    "\n",
    "You are given a directory (folder) containing files and subfolders. Your task is to traverse through the directory, identify all the files, and calculate the sum of sizes of each file. "
   ]
  },
  {
   "cell_type": "code",
   "execution_count": 12,
   "metadata": {},
   "outputs": [
    {
     "name": "stdout",
     "output_type": "stream",
     "text": [
      "6001904 bytes\n"
     ]
    }
   ],
   "source": [
    "import os\n",
    "\n",
    "def calculate_folder_size(folder_path):\n",
    "    total_size = 0\n",
    "    \n",
    "    # Loop over all the files and subfolders in the current folder\n",
    "    for item in os.listdir(folder_path):\n",
    "        item_path = os.path.join(folder_path, item)\n",
    "        \n",
    "        # If it's a file, add its size\n",
    "        if os.path.isfile(item_path):\n",
    "            total_size += os.path.getsize(item_path)\n",
    "\n",
    "        # If it's a folder, recursively calculate the size of the subfolder\n",
    "        elif os.path.isdir(item_path):\n",
    "            total_size += calculate_folder_size_recursive(item_path)\n",
    "    \n",
    "    return total_size\n",
    "\n",
    "# Example usage\n",
    "folder_path = \"/Users/cathzzr2/Desktop/SRI2024\"\n",
    "total_size = calculate_folder_size(folder_path)\n",
    "print(str(total_size) + \" bytes\")\n"
   ]
  },
  {
   "cell_type": "code",
   "execution_count": null,
   "metadata": {},
   "outputs": [],
   "source": []
  }
 ],
 "metadata": {
  "kernelspec": {
   "display_name": "base",
   "language": "python",
   "name": "python3"
  },
  "language_info": {
   "codemirror_mode": {
    "name": "ipython",
    "version": 3
   },
   "file_extension": ".py",
   "mimetype": "text/x-python",
   "name": "python",
   "nbconvert_exporter": "python",
   "pygments_lexer": "ipython3",
   "version": "3.11.8"
  }
 },
 "nbformat": 4,
 "nbformat_minor": 2
}

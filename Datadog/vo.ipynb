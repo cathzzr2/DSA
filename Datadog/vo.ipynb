{
 "cells": [
  {
   "cell_type": "markdown",
   "metadata": {},
   "source": [
    "# Evaluate Sum of Last K\n",
    "\n",
    "You are given a list of data points, where each data point consists of: a list of tags, a list of timestamps (representing when the values were recorded), and a list of values (corresponding to each timestamp).\n",
    "\n",
    "\n",
    "Your task is to:\n",
    "\n",
    "1. Filter the data points based on a given tag.\n",
    "\n",
    "2. Sort the filtered data points in ascending order by their timestamps.\n",
    "\n",
    "3. Calculate the sum of the last K values from this sorted list.\n",
    "\n"
   ]
  },
  {
   "cell_type": "code",
   "execution_count": 2,
   "metadata": {},
   "outputs": [
    {
     "name": "stdout",
     "output_type": "stream",
     "text": [
      "110\n"
     ]
    }
   ],
   "source": [
    "from typing import Dict, List\n",
    "\n",
    "def evaluate_sum_of_last_k(data, k, tag):\n",
    "    tags = data[\"tag\"]\n",
    "    values = data[\"value\"]\n",
    "    timestamps = data[\"timestamp\"]\n",
    "    if tag in tags:\n",
    "        pairs = list(zip(timestamps, values))\n",
    "        pairs.sort(key=lambda x: x[0]) # sort by timestamp in ascending order\n",
    "        pairs = pairs[-k:]\n",
    "        return sum(pair[1] for pair in pairs)\n",
    "    return 0  # If the tag is not found\n",
    "\n",
    "# Example input\n",
    "data = {\n",
    "    \"tag\": [\"env:prod\", \"prod1\"],\n",
    "    \"timestamp\": [1, 10, 3, 100, 2],\n",
    "    \"value\": [-1, 10, -10, 100, 2]\n",
    "}\n",
    "\n",
    "k = 2\n",
    "tag = \"prod1\"\n",
    "\n",
    "# Call the function with the provided input\n",
    "result = evaluate_sum_of_last_k(data, k, tag)\n",
    "print(result)  # Output: 110"
   ]
  }
 ],
 "metadata": {
  "kernelspec": {
   "display_name": "base",
   "language": "python",
   "name": "python3"
  },
  "language_info": {
   "codemirror_mode": {
    "name": "ipython",
    "version": 3
   },
   "file_extension": ".py",
   "mimetype": "text/x-python",
   "name": "python",
   "nbconvert_exporter": "python",
   "pygments_lexer": "ipython3",
   "version": "3.11.8"
  }
 },
 "nbformat": 4,
 "nbformat_minor": 2
}

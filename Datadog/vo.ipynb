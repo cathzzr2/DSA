{
 "cells": [
  {
   "cell_type": "markdown",
   "metadata": {},
   "source": [
    "# Evaluate Sum of Last K\n",
    "\n",
    "You are given a list of data points, where each data point consists of: a list of tags, a list of timestamps (representing when the values were recorded), and a list of values (corresponding to each timestamp).\n",
    "\n",
    "\n",
    "Your task is to:\n",
    "\n",
    "1. Filter the data points based on a given tag.\n",
    "\n",
    "2. Sort the filtered data points in ascending order by their timestamps.\n",
    "\n",
    "3. Calculate the sum of the last K values from this sorted list.\n",
    "\n"
   ]
  },
  {
   "cell_type": "code",
   "execution_count": 2,
   "metadata": {},
   "outputs": [
    {
     "name": "stdout",
     "output_type": "stream",
     "text": [
      "110\n"
     ]
    }
   ],
   "source": [
    "from typing import Dict, List\n",
    "\n",
    "def evaluate_sum_of_last_k(data, k, tag):\n",
    "    tags = data[\"tag\"]\n",
    "    values = data[\"value\"]\n",
    "    timestamps = data[\"timestamp\"]\n",
    "    if tag in tags:\n",
    "        pairs = list(zip(timestamps, values))\n",
    "        pairs.sort(key=lambda x: x[0]) # sort by timestamp in ascending order\n",
    "        pairs = pairs[-k:]\n",
    "        return sum(pair[1] for pair in pairs)\n",
    "    return 0  # If the tag is not found\n",
    "\n",
    "# Example input\n",
    "data = {\n",
    "    \"tag\": [\"env:prod\", \"prod1\"],\n",
    "    \"timestamp\": [1, 10, 3, 100, 2],\n",
    "    \"value\": [-1, 10, -10, 100, 2]\n",
    "}\n",
    "\n",
    "k = 2\n",
    "tag = \"prod1\"\n",
    "\n",
    "# Call the function with the provided input\n",
    "result = evaluate_sum_of_last_k(data, k, tag)\n",
    "print(result)  # Output: 110"
   ]
  },
  {
   "cell_type": "markdown",
   "metadata": {},
   "source": [
    "# 2 Coin Change\n",
    "\n",
    "You are given an integer array of available coin denominations (coins) and an integer amount (amount). Your goal is to determine the minimum number of coins needed to make up that amount. If it's impossible to make the amount with the given coins, return -1."
   ]
  },
  {
   "cell_type": "code",
   "execution_count": 6,
   "metadata": {},
   "outputs": [
    {
     "name": "stdout",
     "output_type": "stream",
     "text": [
      "3 2\n"
     ]
    }
   ],
   "source": [
    "# Greedy approach (only works for some coin denominations)\n",
    "def coin_change_greedy(coins, amount):\n",
    "    coins.sort(reverse=True)  # Sort coins in descending order\n",
    "    count = 0\n",
    "    for coin in coins:\n",
    "        if amount == 0:\n",
    "            break\n",
    "        count += amount // coin  \n",
    "        amount %= coin           \n",
    "    return count if amount == 0 else -1  \n",
    "\n",
    "# Dynamic Programming (DP) approach (guarantees the optimal solution)\n",
    "def coin_change_dp(coins, amount):\n",
    "    if amount == 0:\n",
    "        return 0\n",
    "    dp = [float(\"inf\")] * (amount+1)\n",
    "    dp[0] = 0 # to have $i money, minimum coins needed\n",
    "    for i in range(1, amount+1):\n",
    "        for coin in coins:\n",
    "            if coin <= i:\n",
    "                dp[i] = min(dp[i], dp[i-coin]+1)\n",
    "    return dp[amount] if dp[amount] != float(\"inf\") else -1\n",
    "\n",
    "# Test both methods with the example [1, 3, 4] coins for amount 6\n",
    "coins = [1, 3, 4]\n",
    "amount = 6\n",
    "\n",
    "# Test Greedy approach\n",
    "result_greedy = coin_change_greedy(coins, amount) # 4, 1, 1\n",
    "\n",
    "# Test DP approach\n",
    "result_dp = coin_change_dp(coins, amount) # 3, 3\n",
    "\n",
    "print(result_greedy, result_dp)"
   ]
  },
  {
   "cell_type": "markdown",
   "metadata": {},
   "source": [
    "# 3 Calculate the File Sizes in a Folder\n",
    "\n",
    "You are given a directory (folder) containing files and subfolders. Your task is to traverse through the directory, identify all the files, and calculate the sum of sizes of each file. "
   ]
  },
  {
   "cell_type": "code",
   "execution_count": 12,
   "metadata": {},
   "outputs": [
    {
     "name": "stdout",
     "output_type": "stream",
     "text": [
      "6001904 bytes\n"
     ]
    }
   ],
   "source": [
    "import os\n",
    "\n",
    "def calculate_folder_size(folder_path):\n",
    "    total_size = 0\n",
    "    \n",
    "    # Loop over all the files and subfolders in the current folder\n",
    "    for item in os.listdir(folder_path):\n",
    "        item_path = os.path.join(folder_path, item)\n",
    "        \n",
    "        # If it's a file, add its size\n",
    "        if os.path.isfile(item_path):\n",
    "            total_size += os.path.getsize(item_path)\n",
    "\n",
    "        # If it's a folder, recursively calculate the size of the subfolder\n",
    "        elif os.path.isdir(item_path):\n",
    "            total_size += calculate_folder_size_recursive(item_path)\n",
    "    \n",
    "    return total_size\n",
    "\n",
    "# Example usage\n",
    "folder_path = \"/Users/cathzzr2/Desktop/SRI2024\"\n",
    "total_size = calculate_folder_size(folder_path)\n",
    "print(str(total_size) + \" bytes\")\n"
   ]
  },
  {
   "cell_type": "code",
   "execution_count": null,
   "metadata": {},
   "outputs": [],
   "source": [
    "# File/Directory Interface is given\n",
    "# Use isinstance() function\n",
    "class File:\n",
    "    def __init__(self, name, size):\n",
    "        self.name = name\n",
    "        self.size = size\n",
    "\n",
    "    def get_size(self):\n",
    "        return self.size\n",
    "\n",
    "class Directory:\n",
    "    def __init__(self, name):\n",
    "        self.name = name\n",
    "        self.children = []\n",
    "\n",
    "    def add_child(self, child):\n",
    "        self.children.append(child)\n",
    "\n",
    "    def get_size(self):\n",
    "        total_size = 0\n",
    "        for child in self.children:\n",
    "            total_size += child.get_size()\n",
    "        return total_size\n",
    "\n",
    "class Solution:\n",
    "    def calc_size_sum(self, directory) -> int:\n",
    "        size = 0\n",
    "        for item in directory.children:\n",
    "            if isinstance(item, File):\n",
    "                size += item.get_size()\n",
    "            elif isinstance(item, Directory):\n",
    "                self.calc_size_sum(item)\n",
    "        return size\n"
   ]
  },
  {
   "cell_type": "markdown",
   "metadata": {},
   "source": [
    "# 4 String Match\n",
    "\n",
    "You are given two strings: a regular string and a compressed string. Your task is to determine if the compressed string matches the regular string. The compressed string may contain numeric values that represent any sequence of letters in the regular string.\n",
    "\n",
    "\n",
    "Example 1:\n",
    "\n",
    "datadog and d3dog -> true\n",
    "\n",
    "Explanation: The 3 in d3dog means that three letters (\"ata\") in \"datadog\" are skipped, making the strings match.\n",
    "\n",
    "Example 2:\n",
    "\n",
    "datadog and d2dog -> false\n",
    "\n",
    "Explanation: The 2 in d2dog skips two letters, but this does not allow the strings to match."
   ]
  },
  {
   "cell_type": "code",
   "execution_count": 7,
   "metadata": {},
   "outputs": [
    {
     "name": "stdout",
     "output_type": "stream",
     "text": [
      "True\n"
     ]
    }
   ],
   "source": [
    "class Solution:\n",
    "    def is_match(self, regular: str, compressed: str) -> bool:\n",
    "        regular_idx, compressed_idx = 0, 0\n",
    "        while regular_idx < len(regular) and compressed_idx < len(compressed):\n",
    "            if compressed[compressed_idx].isdigit():\n",
    "                skip_num = 0\n",
    "                while compressed[compressed_idx].isdigit():\n",
    "                    skip_num = skip_num * 10 + int(compressed[compressed_idx])\n",
    "                    compressed_idx += 1\n",
    "                regular_idx += skip_num\n",
    "            else:\n",
    "                if regular[regular_idx] != compressed[compressed_idx]:\n",
    "                    return False\n",
    "                regular_idx += 1\n",
    "                compressed_idx += 1\n",
    "        return True\n",
    "\n",
    "# test\n",
    "solution = Solution()\n",
    "print(solution.is_match(\"dataaaaaaaaaadog\", \"d12dog\"))  "
   ]
  },
  {
   "cell_type": "markdown",
   "metadata": {},
   "source": [
    "# 5 String Match Follow-up\n",
    "\n",
    "Based on #4, add a new condition: the compressed string can contain range patterns like {n,m}, meaning the string can skip between n and m letters. For example, d{1,3}dog would match d1dog, d2dog, or d3dog. Also, special characters like ^ might be introduced to represent a skip pattern, such as d^4dog, which can be interpreted the same way as d4dog."
   ]
  },
  {
   "cell_type": "code",
   "execution_count": 9,
   "metadata": {},
   "outputs": [
    {
     "name": "stdout",
     "output_type": "stream",
     "text": [
      "True\n",
      "True\n",
      "False\n",
      "True\n"
     ]
    }
   ],
   "source": [
    "class Solution:\n",
    "    def is_match(self, regular: str, compressed: str) -> bool:\n",
    "        regular_idx, compressed_idx = 0, 0\n",
    "        \n",
    "        while regular_idx < len(regular) and compressed_idx < len(compressed):\n",
    "            if compressed[compressed_idx].isdigit():\n",
    "                # Handle the case where compressed string has numbers (single skip)\n",
    "                skip_num = 0\n",
    "                while compressed_idx < len(compressed) and compressed[compressed_idx].isdigit():\n",
    "                    skip_num = skip_num * 10 + int(compressed[compressed_idx])\n",
    "                    compressed_idx += 1\n",
    "                regular_idx += skip_num\n",
    "\n",
    "            elif compressed[compressed_idx] == '^':\n",
    "                compressed_idx += 1  # skip '^'\n",
    "\n",
    "            elif compressed[compressed_idx] == '{':\n",
    "                # Handle range pattern {n,m}\n",
    "                compressed_idx += 1  # skip '{'\n",
    "                range_start = 0\n",
    "                range_end = 0\n",
    "                \n",
    "                # Parse the start of the range\n",
    "                while compressed_idx < len(compressed) and compressed[compressed_idx].isdigit():\n",
    "                    range_start = range_start * 10 + int(compressed[compressed_idx])\n",
    "                    compressed_idx += 1\n",
    "                \n",
    "                if compressed[compressed_idx] == ',':\n",
    "                    compressed_idx += 1  # skip ','\n",
    "                \n",
    "                # Parse the end of the range\n",
    "                while compressed_idx < len(compressed) and compressed[compressed_idx].isdigit():\n",
    "                    range_end = range_end * 10 + int(compressed[compressed_idx])\n",
    "                    compressed_idx += 1\n",
    "                \n",
    "                if compressed[compressed_idx] == '}':\n",
    "                    compressed_idx += 1  # skip '}'\n",
    "                \n",
    "                # Try skipping between range_start and range_end and check for match\n",
    "                match_found = False\n",
    "                for skip_count in range(range_start, range_end + 1):\n",
    "                    if self.is_match(regular[regular_idx + skip_count:], compressed[compressed_idx:]):\n",
    "                        match_found = True\n",
    "                        break\n",
    "                if not match_found:\n",
    "                    return False\n",
    "                regular_idx += skip_count\n",
    "            else:\n",
    "                # Compare the characters if not a digit or range pattern\n",
    "                if regular[regular_idx] != compressed[compressed_idx]:\n",
    "                    return False\n",
    "                regular_idx += 1\n",
    "                compressed_idx += 1\n",
    "        \n",
    "        # Check if both strings have been fully processed\n",
    "        return regular_idx == len(regular) and compressed_idx == len(compressed)\n",
    "\n",
    "# Test cases\n",
    "solution = Solution()\n",
    "print(solution.is_match(\"dataaaaaaaaaadog\", \"d12dog\"))  # True\n",
    "print(solution.is_match(\"datadog\", \"d{1,3}dog\"))  # True\n",
    "print(solution.is_match(\"datadog\", \"d2dog\"))  # False\n",
    "print(solution.is_match(\"datadog\", \"d3^dog\"))  # True"
   ]
  }
 ],
 "metadata": {
  "kernelspec": {
   "display_name": "base",
   "language": "python",
   "name": "python3"
  },
  "language_info": {
   "codemirror_mode": {
    "name": "ipython",
    "version": 3
   },
   "file_extension": ".py",
   "mimetype": "text/x-python",
   "name": "python",
   "nbconvert_exporter": "python",
   "pygments_lexer": "ipython3",
   "version": "3.11.8"
  }
 },
 "nbformat": 4,
 "nbformat_minor": 2
}

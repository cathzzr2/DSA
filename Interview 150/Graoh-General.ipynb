{
 "cells": [
  {
   "cell_type": "markdown",
   "metadata": {},
   "source": [
    "# 207 Course Scehdule\n",
    "\n",
    "There are a total of numCourses courses you have to take, labeled from 0 to numCourses - 1. You are given an array prerequisites where prerequisites[i] = [ai, bi] indicates that you must take course bi first if you want to take course ai.\n",
    "\n",
    "\n",
    "For example, the pair [0, 1], indicates that to take course 0 you have to first take course 1.\n",
    "Return true if you can finish all courses. Otherwise, return false."
   ]
  },
  {
   "cell_type": "code",
   "execution_count": null,
   "metadata": {},
   "outputs": [],
   "source": []
  },
  {
   "cell_type": "code",
   "execution_count": 1,
   "metadata": {},
   "outputs": [
    {
     "name": "stdout",
     "output_type": "stream",
     "text": [
      "True\n"
     ]
    }
   ],
   "source": [
    "# Runtime: O(V+E) as we need to traverse all vertices and edges\n",
    "# Space: O(V+E) as we need to store the DAG and in-degree table\n",
    "\n",
    "from typing import List\n",
    "from collections import defaultdict, deque\n",
    "class Solution:\n",
    "    def canFinish(self, numCourses: int, prerequisites: List[List[int]]) -> bool:\n",
    "        # example: [5, 3] -> [plan, prereq]\n",
    "        # initialize the DAG\n",
    "        dag = defaultdict(list) # list of next courses can be taken\n",
    "        # initialize the in-degree table\n",
    "        indegree = [0] * numCourses # number of pre-requisite to finish\n",
    "        # fill the DAG and table\n",
    "        for pair in prerequisites:\n",
    "            dag[pair[1]].append(pair[0])\n",
    "            indegree[pair[0]] += 1\n",
    "        # add all courses with in-degree = 1 into queue\n",
    "        queue = deque()\n",
    "        taken = 0\n",
    "        for i in range(len(indegree)):\n",
    "            if indegree[i] == 0:\n",
    "                queue.append(i)\n",
    "        while queue:\n",
    "            # take the top course\n",
    "            course = queue.popleft()\n",
    "            # track taken amount\n",
    "            taken += 1\n",
    "            # all courses who need this course's indegree decrements\n",
    "            for next_course in dag[course]:\n",
    "                indegree[next_course] -= 1\n",
    "                # if this course's prereqs are all done\n",
    "                if indegree[next_course] == 0:\n",
    "                    # we can next take it\n",
    "                    queue.append(next_course)\n",
    "        # return\n",
    "        return taken == numCourses\n",
    "        \n",
    "sol = Solution()\n",
    "numCourses = 2\n",
    "prerequisites = [[1,0]]\n",
    "print(sol.canFinish(numCourses, prerequisites))\n"
   ]
  }
 ],
 "metadata": {
  "kernelspec": {
   "display_name": "base",
   "language": "python",
   "name": "python3"
  },
  "language_info": {
   "codemirror_mode": {
    "name": "ipython",
    "version": 3
   },
   "file_extension": ".py",
   "mimetype": "text/x-python",
   "name": "python",
   "nbconvert_exporter": "python",
   "pygments_lexer": "ipython3",
   "version": "3.11.8"
  }
 },
 "nbformat": 4,
 "nbformat_minor": 2
}

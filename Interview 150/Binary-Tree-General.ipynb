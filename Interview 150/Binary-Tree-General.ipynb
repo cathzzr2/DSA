{
 "cells": [
  {
   "cell_type": "markdown",
   "metadata": {},
   "source": [
    "# 129 Sum Root to Leaf Numbers\n",
    "\n",
    "You are given the root of a binary tree containing digits from 0 to 9 only.\n",
    "\n",
    "Each root-to-leaf path in the tree represents a number.\n",
    "\n",
    "For example, the root-to-leaf path 1 -> 2 -> 3 represents the number 123.\n",
    "Return the total sum of all root-to-leaf numbers. Test cases are generated so that the answer will fit in a 32-bit integer.\n",
    "\n",
    "A leaf node is a node with no children."
   ]
  },
  {
   "cell_type": "code",
   "execution_count": null,
   "metadata": {},
   "outputs": [],
   "source": [
    "# Runtime: O(N) as we visit each node once.\n",
    "# Memory: O(N) as we store the path from root to leaf in the recursive call stack.\n",
    "\n",
    "# Definition for a binary tree node.\n",
    "# class TreeNode:\n",
    "#     def __init__(self, val=0, left=None, right=None):\n",
    "#         self.val = val\n",
    "#         self.left = left\n",
    "#         self.right = right\n",
    "class Solution:\n",
    "    def sumNumbers(self, root: Optional[TreeNode]) -> int:\n",
    "        paths = []\n",
    "        self.rootToLeaf(root, \"\", paths)\n",
    "        return sum(paths)\n",
    "    \n",
    "    def rootToLeaf(self, node, path, paths):\n",
    "        if not node:\n",
    "            return\n",
    "        path += str(node.val)\n",
    "        if not node.left and not node.right:\n",
    "            paths.append(int(path))\n",
    "        else:\n",
    "            self.rootToLeaf(node.left, path, paths) \n",
    "            self.rootToLeaf(node.right, path, paths)"
   ]
  },
  {
   "cell_type": "markdown",
   "metadata": {},
   "source": [
    "# 173 Binary Search Tree Iterator\n",
    "\n",
    "Implement the BSTIterator class that represents an iterator over the in-order traversal of a binary search tree (BST):\n",
    "\n",
    "BSTIterator(TreeNode root) Initializes an object of the BSTIterator class. The root of the BST is given as part of the constructor. The pointer should be initialized to a non-existent number smaller than any element in the BST.\n",
    "\n",
    "\n",
    "boolean hasNext() Returns true if there exists a number in the traversal to the right of the pointer, otherwise returns false.\n",
    "\n",
    "\n",
    "int next() Moves the pointer to the right, then returns the number at the pointer.\n",
    "Notice that by initializing the pointer to a non-existent smallest number, the first call to next() will return the smallest element in the BST.\n",
    "\n",
    "\n",
    "You may assume that next() calls will always be valid. That is, there will be at least a next number in the in-order traversal when next() is called."
   ]
  },
  {
   "cell_type": "code",
   "execution_count": null,
   "metadata": {},
   "outputs": [],
   "source": [
    "# Runtime: _init_: O(N) as we visit each node once; next: O(1); hasNext: O(1)\n",
    "# Space: O(N) as we store the path from root to leaf in a list.\n",
    "\n",
    "# Definition for a binary tree node.\n",
    "# class TreeNode:\n",
    "#     def __init__(self, val=0, left=None, right=None):\n",
    "#         self.val = val\n",
    "#         self.left = left\n",
    "#         self.right = right\n",
    "class BSTIterator:\n",
    "\n",
    "    def __init__(self, root: Optional[TreeNode]):\n",
    "        self.path = [] # List[int]\n",
    "        self.index = -1\n",
    "        self.dfs(root)\n",
    "    \n",
    "    def dfs(self, node: Optional[TreeNode]):\n",
    "        if not node:\n",
    "            return\n",
    "        self.dfs(node.left)\n",
    "        self.path.append(node.val)\n",
    "        self.dfs(node.right)\n",
    "        return\n",
    "\n",
    "    def next(self) -> int:\n",
    "        self.index += 1\n",
    "        return self.path[self.index]\n",
    "\n",
    "    def hasNext(self) -> bool:\n",
    "        return self.index+1 < len(self.path)"
   ]
  }
 ],
 "metadata": {
  "language_info": {
   "name": "python"
  }
 },
 "nbformat": 4,
 "nbformat_minor": 2
}

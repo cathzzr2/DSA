{
 "cells": [
  {
   "cell_type": "markdown",
   "metadata": {},
   "source": [
    "# 129 Sum Root to Leaf Numbers\n",
    "\n",
    "You are given the root of a binary tree containing digits from 0 to 9 only.\n",
    "\n",
    "Each root-to-leaf path in the tree represents a number.\n",
    "\n",
    "For example, the root-to-leaf path 1 -> 2 -> 3 represents the number 123.\n",
    "Return the total sum of all root-to-leaf numbers. Test cases are generated so that the answer will fit in a 32-bit integer.\n",
    "\n",
    "A leaf node is a node with no children."
   ]
  },
  {
   "cell_type": "code",
   "execution_count": null,
   "metadata": {},
   "outputs": [],
   "source": [
    "# Runtime: O(N) as we visit each node once.\n",
    "# Memory: O(N) as we store the path from root to leaf in the recursive call stack.\n",
    "\n",
    "# Definition for a binary tree node.\n",
    "# class TreeNode:\n",
    "#     def __init__(self, val=0, left=None, right=None):\n",
    "#         self.val = val\n",
    "#         self.left = left\n",
    "#         self.right = right\n",
    "class Solution:\n",
    "    def sumNumbers(self, root: Optional[TreeNode]) -> int:\n",
    "        paths = []\n",
    "        self.rootToLeaf(root, \"\", paths)\n",
    "        return sum(paths)\n",
    "    \n",
    "    def rootToLeaf(self, node, path, paths):\n",
    "        if not node:\n",
    "            return\n",
    "        path += str(node.val)\n",
    "        if not node.left and not node.right:\n",
    "            paths.append(int(path))\n",
    "        else:\n",
    "            self.rootToLeaf(node.left, path, paths) \n",
    "            self.rootToLeaf(node.right, path, paths)"
   ]
  }
 ],
 "metadata": {
  "language_info": {
   "name": "python"
  }
 },
 "nbformat": 4,
 "nbformat_minor": 2
}

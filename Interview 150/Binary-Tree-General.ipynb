{
 "cells": [
  {
   "cell_type": "markdown",
   "metadata": {},
   "source": [
    "# 129 Sum Root to Leaf Numbers\n",
    "\n",
    "You are given the root of a binary tree containing digits from 0 to 9 only.\n",
    "\n",
    "Each root-to-leaf path in the tree represents a number.\n",
    "\n",
    "For example, the root-to-leaf path 1 -> 2 -> 3 represents the number 123.\n",
    "Return the total sum of all root-to-leaf numbers. Test cases are generated so that the answer will fit in a 32-bit integer.\n",
    "\n",
    "A leaf node is a node with no children."
   ]
  },
  {
   "cell_type": "code",
   "execution_count": null,
   "metadata": {},
   "outputs": [],
   "source": [
    "# Runtime: O(N) as we visit each node once.\n",
    "# Memory: O(N) as we store the path from root to leaf in the recursive call stack.\n",
    "\n",
    "# Definition for a binary tree node.\n",
    "# class TreeNode:\n",
    "#     def __init__(self, val=0, left=None, right=None):\n",
    "#         self.val = val\n",
    "#         self.left = left\n",
    "#         self.right = right\n",
    "class Solution:\n",
    "    def sumNumbers(self, root: Optional[TreeNode]) -> int:\n",
    "        paths = []\n",
    "        self.rootToLeaf(root, \"\", paths)\n",
    "        return sum(paths)\n",
    "    \n",
    "    def rootToLeaf(self, node, path, paths):\n",
    "        if not node:\n",
    "            return\n",
    "        path += str(node.val)\n",
    "        if not node.left and not node.right:\n",
    "            paths.append(int(path))\n",
    "        else:\n",
    "            self.rootToLeaf(node.left, path, paths) \n",
    "            self.rootToLeaf(node.right, path, paths)"
   ]
  },
  {
   "cell_type": "markdown",
   "metadata": {},
   "source": [
    "# 173 Binary Search Tree Iterator\n",
    "\n",
    "Implement the BSTIterator class that represents an iterator over the in-order traversal of a binary search tree (BST):\n",
    "\n",
    "BSTIterator(TreeNode root) Initializes an object of the BSTIterator class. The root of the BST is given as part of the constructor. The pointer should be initialized to a non-existent number smaller than any element in the BST.\n",
    "\n",
    "\n",
    "boolean hasNext() Returns true if there exists a number in the traversal to the right of the pointer, otherwise returns false.\n",
    "\n",
    "\n",
    "int next() Moves the pointer to the right, then returns the number at the pointer.\n",
    "Notice that by initializing the pointer to a non-existent smallest number, the first call to next() will return the smallest element in the BST.\n",
    "\n",
    "\n",
    "You may assume that next() calls will always be valid. That is, there will be at least a next number in the in-order traversal when next() is called."
   ]
  },
  {
   "cell_type": "code",
   "execution_count": null,
   "metadata": {},
   "outputs": [],
   "source": [
    "# Runtime: _init_: O(N) as we visit each node once; next: O(1); hasNext: O(1)\n",
    "# Space: O(N) as we store the path from root to leaf in a list.\n",
    "\n",
    "# Definition for a binary tree node.\n",
    "# class TreeNode:\n",
    "#     def __init__(self, val=0, left=None, right=None):\n",
    "#         self.val = val\n",
    "#         self.left = left\n",
    "#         self.right = right\n",
    "class BSTIterator:\n",
    "\n",
    "    def __init__(self, root: Optional[TreeNode]):\n",
    "        self.path = [] # List[int]\n",
    "        self.index = -1\n",
    "        self.dfs(root)\n",
    "    \n",
    "    def dfs(self, node: Optional[TreeNode]):\n",
    "        if not node:\n",
    "            return\n",
    "        self.dfs(node.left)\n",
    "        self.path.append(node.val)\n",
    "        self.dfs(node.right)\n",
    "        return\n",
    "\n",
    "    def next(self) -> int:\n",
    "        self.index += 1\n",
    "        return self.path[self.index]\n",
    "\n",
    "    def hasNext(self) -> bool:\n",
    "        return self.index+1 < len(self.path)"
   ]
  },
  {
   "cell_type": "markdown",
   "metadata": {},
   "source": [
    "# 559 Maximum Depth of N-ary Tree\n",
    "\n",
    "Company: Datadog\n",
    "\n",
    "Given a n-ary tree, find its maximum depth.\n",
    "\n",
    "\n",
    "The maximum depth is the number of nodes along the longest path from the root node down to the farthest leaf node.\n",
    "\n",
    "\n",
    "Nary-Tree input serialization is represented in their level order traversal, each group of children is separated by the null value (See examples).\n"
   ]
  },
  {
   "cell_type": "code",
   "execution_count": 5,
   "metadata": {},
   "outputs": [
    {
     "name": "stdout",
     "output_type": "stream",
     "text": [
      "3\n"
     ]
    }
   ],
   "source": [
    "# Runtime: O(N) as we visit each node once.\n",
    "# Memory: O(N) as we use recursive call stack.\n",
    "\n",
    "from typing import List, Optional\n",
    "\n",
    "# Definition for a Node.\n",
    "class Node:\n",
    "    def __init__(self, val: Optional[int] = None, children: Optional[List['Node']] = None):\n",
    "        self.val = val\n",
    "        self.children = children if children is not None else []\n",
    "\n",
    "\n",
    "class Solution:\n",
    "    def maxDepth(self, root: 'Node') -> int:\n",
    "        if not root:\n",
    "            return 0\n",
    "        max_depth = 0\n",
    "        for child in root.children:\n",
    "            max_depth = max(self.maxDepth(child), max_depth)\n",
    "        return max_depth + 1\n",
    "\n",
    "sol = Solution()\n",
    "root = Node(1, [\n",
    "    Node(2),\n",
    "    Node(3, [Node(5)]),\n",
    "    Node(4)\n",
    "])\n",
    "print(sol.maxDepth(root)) # 3"
   ]
  }
 ],
 "metadata": {
  "kernelspec": {
   "display_name": "base",
   "language": "python",
   "name": "python3"
  },
  "language_info": {
   "codemirror_mode": {
    "name": "ipython",
    "version": 3
   },
   "file_extension": ".py",
   "mimetype": "text/x-python",
   "name": "python",
   "nbconvert_exporter": "python",
   "pygments_lexer": "ipython3",
   "version": "3.11.8"
  }
 },
 "nbformat": 4,
 "nbformat_minor": 2
}

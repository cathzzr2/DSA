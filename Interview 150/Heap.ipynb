{
 "cells": [
  {
   "cell_type": "markdown",
   "metadata": {},
   "source": [
    "# 215 Kth Largest Element in an Array\n",
    "\n",
    "Description: Given an integer array nums and an integer k, return the kth largest element in the array. Note that it is the kth largest element in the sorted order, not the kth distinct element. Can you solve it without sorting?"
   ]
  },
  {
   "cell_type": "code",
   "execution_count": 2,
   "metadata": {},
   "outputs": [
    {
     "name": "stdout",
     "output_type": "stream",
     "text": [
      "5\n"
     ]
    }
   ],
   "source": [
    "# Approach 1: Min Heap\n",
    "# Runtime: O(N * logk), Space: O(k) where k is the size of heap\n",
    "\n",
    "import heapq\n",
    "from typing import List\n",
    "class Solution:\n",
    "    def findKthLargest(self, nums: List[int], k: int) -> int:\n",
    "        # when there is no kth element\n",
    "        if len(nums) < k:\n",
    "            return -1\n",
    "        # create heap: maintain it to be size = k\n",
    "        heap = []\n",
    "        # while iterating the list, update the heap while the current element > smallest in the heap\n",
    "        for i in range(len(nums)):\n",
    "            if len(heap) < k:\n",
    "                heapq.heappush(heap, nums[i])\n",
    "            else:\n",
    "                smallest = heap[0]\n",
    "                if nums[i] > smallest:\n",
    "                    heapq.heappop(heap)\n",
    "                    heapq.heappush(heap, nums[i])\n",
    "        # finally the heap will contain the first - kth largest element\n",
    "        return heap[0]\n",
    "\n",
    "solution = Solution()\n",
    "# From the list [3,2,1,5,6,4], find the 2nd largest element\n",
    "print(solution.findKthLargest([3,2,1,5,6,4], 2)) # Expected: 5"
   ]
  }
 ],
 "metadata": {
  "kernelspec": {
   "display_name": "Python 3",
   "language": "python",
   "name": "python3"
  },
  "language_info": {
   "codemirror_mode": {
    "name": "ipython",
    "version": 3
   },
   "file_extension": ".py",
   "mimetype": "text/x-python",
   "name": "python",
   "nbconvert_exporter": "python",
   "pygments_lexer": "ipython3",
   "version": "3.11.9"
  }
 },
 "nbformat": 4,
 "nbformat_minor": 2
}

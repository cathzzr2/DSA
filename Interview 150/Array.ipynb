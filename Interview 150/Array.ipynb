{
 "cells": [
  {
   "cell_type": "markdown",
   "metadata": {},
   "source": [
    "# 121 Best Time to Buy and Sell Stocks\n",
    "\n",
    "You are given an array prices where prices[i] is the price of a given stock on the ith day.\n",
    "\n",
    "You want to maximize your profit by choosing a single day to buy one stock and choosing a different day in the future to sell that stock.\n",
    "\n",
    "Return the maximum profit you can achieve from this transaction. If you cannot achieve any profit, return 0.\n"
   ]
  },
  {
   "cell_type": "code",
   "execution_count": 1,
   "metadata": {},
   "outputs": [
    {
     "name": "stdout",
     "output_type": "stream",
     "text": [
      "5\n"
     ]
    }
   ],
   "source": [
    "# Runtime: O(n) as we iterate through the list once\n",
    "# Space: O(1) as we only use a few variables\n",
    "\n",
    "from typing import List\n",
    "class Solution:\n",
    "    def maxProfit(self, prices: List[int]) -> int:\n",
    "        max_prof = 0\n",
    "        buy = prices[0]\n",
    "        for i in range(1, len(prices)):\n",
    "            sell = prices[i]\n",
    "            if buy < sell:\n",
    "                prof = sell - buy\n",
    "                max_prof = max(max_prof, prof)\n",
    "            else:\n",
    "                buy = sell\n",
    "        return max_prof\n",
    "\n",
    "sol = Solution()\n",
    "prices = [7,1,5,3,6,4]\n",
    "print(sol.maxProfit(prices))"
   ]
  }
 ],
 "metadata": {
  "kernelspec": {
   "display_name": "base",
   "language": "python",
   "name": "python3"
  },
  "language_info": {
   "codemirror_mode": {
    "name": "ipython",
    "version": 3
   },
   "file_extension": ".py",
   "mimetype": "text/x-python",
   "name": "python",
   "nbconvert_exporter": "python",
   "pygments_lexer": "ipython3",
   "version": "3.11.8"
  }
 },
 "nbformat": 4,
 "nbformat_minor": 2
}

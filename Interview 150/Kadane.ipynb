{
 "cells": [
  {
   "cell_type": "markdown",
   "metadata": {},
   "source": [
    "# 53 Maximum Subarray\n",
    "\n",
    "Given an integer array nums, find the subarray with the largest sum, and return its sum."
   ]
  },
  {
   "cell_type": "code",
   "execution_count": 2,
   "metadata": {},
   "outputs": [
    {
     "name": "stdout",
     "output_type": "stream",
     "text": [
      "6\n"
     ]
    }
   ],
   "source": [
    "# Runtime: O(N) where N is the length of the input list\n",
    "# Space: O(1) - no extra space used\n",
    "\n",
    "from typing import List\n",
    "\n",
    "class Solution:\n",
    "    def maxSubArray(self, nums: List[int]) -> int:\n",
    "        if not nums or len(nums) < 1:\n",
    "            return 0\n",
    "        # kadane's algorithm\n",
    "        cur_max, global_max = nums[0], nums[0]\n",
    "        for num in nums[1:]:\n",
    "            cur_max = max(num, cur_max+num)\n",
    "            global_max = max(global_max, cur_max)\n",
    "        return global_max\n",
    "\n",
    "sol = Solution()\n",
    "print(sol.maxSubArray([-2,1,-3,4,-1,2,1,-5,4])) # 6"
   ]
  },
  {
   "cell_type": "markdown",
   "metadata": {},
   "source": [
    "# 918. Maximum Sum Circular Subarray\n",
    "\n",
    "\n",
    "Given a circular integer array nums of length n, return the maximum possible sum of a non-empty subarray of nums.\n",
    "\n",
    "\n",
    "A circular array means the end of the array connects to the beginning of the array. Formally, the next element of nums[i] is nums[(i + 1) % n] and the previous element of nums[i] is nums[(i - 1 + n) % n].\n",
    "\n",
    "\n",
    "A subarray may only include each element of the fixed buffer nums at most once. Formally, for a subarray nums[i], nums[i + 1], ..., nums[j], there does not exist i <= k1, k2 <= j with k1 % n == k2 % n.\n"
   ]
  },
  {
   "cell_type": "code",
   "execution_count": 1,
   "metadata": {},
   "outputs": [
    {
     "name": "stdout",
     "output_type": "stream",
     "text": [
      "3\n"
     ]
    }
   ],
   "source": [
    "# Runtime: O(N) - Kadane's algorithm\n",
    "# Space: O(1) - no extra space used\n",
    "\n",
    "from typing import List\n",
    "\n",
    "class Solution:\n",
    "    def maxSubarraySumCircular(self, nums: List[int]) -> int:\n",
    "        fix_max = self.kadaneMax(nums)\n",
    "        fix_min = self.kadaneMin(nums)\n",
    "        nums_total = sum(nums)\n",
    "        if fix_min == nums_total: # all negatives\n",
    "            return fix_max\n",
    "        else:\n",
    "            return max(nums_total - fix_min, fix_max)\n",
    "    \n",
    "    def kadaneMax(self, nums) -> int:\n",
    "        cur_max, total_max = nums[0], nums[0]\n",
    "        for num in nums[1:]:\n",
    "            cur_max = max(num, cur_max + num)\n",
    "            total_max = max(total_max, cur_max)\n",
    "        return total_max\n",
    "    \n",
    "    def kadaneMin(self, nums) -> int:\n",
    "        neg_nums = [-num for num in nums]\n",
    "        cur_max, total_max = neg_nums[0], neg_nums[0]\n",
    "        for num in neg_nums[1:]:\n",
    "            cur_max = max(num, cur_max + num)\n",
    "            total_max = max(total_max, cur_max)\n",
    "        return -total_max\n",
    "\n",
    "sol = Solution()\n",
    "print(sol.maxSubarraySumCircular([1,-2,3,-2])) # 3"
   ]
  }
 ],
 "metadata": {
  "kernelspec": {
   "display_name": "base",
   "language": "python",
   "name": "python3"
  },
  "language_info": {
   "codemirror_mode": {
    "name": "ipython",
    "version": 3
   },
   "file_extension": ".py",
   "mimetype": "text/x-python",
   "name": "python",
   "nbconvert_exporter": "python",
   "pygments_lexer": "ipython3",
   "version": "3.11.8"
  }
 },
 "nbformat": 4,
 "nbformat_minor": 2
}

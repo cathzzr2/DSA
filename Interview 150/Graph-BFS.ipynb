{
 "cells": [
  {
   "cell_type": "markdown",
   "metadata": {},
   "source": [
    "# 127 Word Ladder\n",
    "\n",
    "A transformation sequence from word beginWord to word endWord using a dictionary wordList is a sequence of words beginWord -> s1 -> s2 -> ... -> sk such that:\n",
    "\n",
    "\n",
    "Every adjacent pair of words differs by a single letter.\n",
    "Every si for 1 <= i <= k is in wordList. Note that beginWord does not need to be in wordList.\n",
    "sk == endWord\n",
    "\n",
    "\n",
    "Given two words, beginWord and endWord, and a dictionary wordList, return the number of words in the shortest transformation sequence from beginWord to endWord, or 0 if no such sequence exists."
   ]
  },
  {
   "cell_type": "code",
   "execution_count": null,
   "metadata": {},
   "outputs": [],
   "source": [
    "# Runtime: O(n * m^2) where n is the number of words in the wordList and m is the length of the word\n",
    "# Space: O(n) where n is the number of words in the wordList\n",
    "# ??? \n",
    "\n",
    "from typing import List\n",
    "from collections import deque\n",
    "class Solution:\n",
    "    def ladderLength(self, beginWord: str, endWord: str, wordList: List[str]) -> int:\n",
    "        wordSet = set(wordList)\n",
    "        if endWord not in wordSet:\n",
    "            return 0\n",
    "        queue = deque()\n",
    "        queue.append([beginWord, 1])\n",
    "        while queue:\n",
    "            curWord, stepCount = queue.popleft()\n",
    "            if curWord == endWord:\n",
    "                return stepCount\n",
    "            nextWords = self.newComboFound(curWord, wordSet)\n",
    "            for nextWord in nextWords:\n",
    "                queue.append([nextWord, stepCount + 1])\n",
    "        return 0\n",
    "        \n",
    "    \n",
    "    def newComboFound(self, curWord: str, wordSet: set):\n",
    "        nextCombos = []\n",
    "        # \"hit\"\n",
    "        for i in range(len(curWord)):\n",
    "            # letter = o\n",
    "            for letter in \"abcdefghijklmnopqrstuvwxyz\":\n",
    "                # \"hot\"\n",
    "                if curWord[:i] + letter + curWord[i+1:]  in wordSet:\n",
    "                    wordSet.remove(curWord[:i] + letter + curWord[i+1:] )\n",
    "                    nextCombos.append(curWord[:i] + letter + curWord[i+1:] )\n",
    "        return nextCombos"
   ]
  }
 ],
 "metadata": {
  "language_info": {
   "name": "python"
  }
 },
 "nbformat": 4,
 "nbformat_minor": 2
}

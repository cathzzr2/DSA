{
 "cells": [
  {
   "cell_type": "markdown",
   "metadata": {},
   "source": [
    "# 9 Palindrome Number\n",
    "\n",
    "Given an integer x, return true if x is a palindrome, and false otherwise."
   ]
  },
  {
   "cell_type": "code",
   "execution_count": null,
   "metadata": {},
   "outputs": [],
   "source": [
    "# Approach 1: Mathematical solution\n",
    "# Runtime: O(log10(n)) where n is the input number, log10(n) is the number of digits in n\n",
    "# Space: O(1)\n",
    "\n",
    "class Solution:\n",
    "    def isPalindrome(self, x: int) -> bool:\n",
    "        num = x # copy for final comparison\n",
    "        if x < 0:\n",
    "            return False\n",
    "        # if lastDigit is 0 but x is not 0 it mustn't be palindrome\n",
    "        if x % 10 == 0 and x != 0:\n",
    "            return False\n",
    "        reverse = 0\n",
    "        while num > 0:\n",
    "            lastDigit = num % 10\n",
    "            reverse = reverse * 10 + lastDigit\n",
    "            num //= 10\n",
    "        return reverse == x\n",
    "\n",
    "# Approcah 2: Convert to string\n",
    "# Runtime: O(log10(n)) where n is the input number \n",
    "# Space: O(log10(n))\n",
    "\n",
    "class Solution:\n",
    "    def isPalindrome(self, x: int) -> bool:\n",
    "        return str(x) == str(x)[::-1]"
   ]
  }
 ],
 "metadata": {
  "language_info": {
   "name": "python"
  }
 },
 "nbformat": 4,
 "nbformat_minor": 2
}

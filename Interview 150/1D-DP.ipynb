{
 "cells": [
  {
   "cell_type": "markdown",
   "metadata": {},
   "source": [
    "# 70 Climbing Stairs\n",
    "\n",
    "You are climbing a staircase. It takes n steps to reach the top.\n",
    "\n",
    "Each time you can either climb 1 or 2 steps. In how many distinct ways can you climb to the top?"
   ]
  },
  {
   "cell_type": "code",
   "execution_count": 1,
   "metadata": {},
   "outputs": [
    {
     "name": "stdout",
     "output_type": "stream",
     "text": [
      "2\n"
     ]
    }
   ],
   "source": [
    "class Solution:\n",
    "    def climbStairs(self, n: int) -> int:\n",
    "        # edge case\n",
    "        if n < 1:\n",
    "            return -1\n",
    "        if n == 1:\n",
    "            return 1\n",
    "        # array: each cell labels the numbers of ways to reach here\n",
    "        dp = [0 for _ in range(n+1)]\n",
    "        # base case\n",
    "        dp[1] = 1 # 0->1\n",
    "        dp[2] = 2 # 0->1->2 and 0->2\n",
    "        for i in range(3, (n+1)):\n",
    "            dp[i] = dp[i-1] + dp[i-2]\n",
    "        return dp[n]\n",
    "    \n",
    "sol = Solution()\n",
    "n = 2\n",
    "print(sol.climbStairs(n))"
   ]
  }
 ],
 "metadata": {
  "kernelspec": {
   "display_name": "base",
   "language": "python",
   "name": "python3"
  },
  "language_info": {
   "codemirror_mode": {
    "name": "ipython",
    "version": 3
   },
   "file_extension": ".py",
   "mimetype": "text/x-python",
   "name": "python",
   "nbconvert_exporter": "python",
   "pygments_lexer": "ipython3",
   "version": "3.11.8"
  }
 },
 "nbformat": 4,
 "nbformat_minor": 2
}

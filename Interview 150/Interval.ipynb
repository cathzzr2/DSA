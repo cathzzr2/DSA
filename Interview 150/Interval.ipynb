{
 "cells": [
  {
   "cell_type": "markdown",
   "metadata": {},
   "source": [
    "# 228 Summary Ranges\n",
    "\n",
    "You are given a sorted unique integer array nums.\n",
    "\n",
    "A range [a,b] is the set of all integers from a to b (inclusive).\n",
    "\n",
    "Return the smallest sorted list of ranges that cover all the numbers in the array exactly. That is, each element of nums is covered by exactly one of the ranges, and there is no integer x such that x is in one of the ranges but not in nums.\n",
    "\n",
    "Each range [a,b] in the list should be output as:\n",
    "\n",
    "\"a->b\" if a != b\n",
    "\"a\" if a == b"
   ]
  },
  {
   "cell_type": "code",
   "execution_count": 1,
   "metadata": {},
   "outputs": [
    {
     "name": "stdout",
     "output_type": "stream",
     "text": [
      "['0->2', '4->5', '7']\n"
     ]
    }
   ],
   "source": [
    "from typing import List\n",
    "\n",
    "# Runtime: O(N) as we iterate through the list once\n",
    "# Space: O(N) as we store the result in a list\n",
    "\n",
    "class Solution:\n",
    "    def summaryRanges(self, nums: List[int]) -> List[str]:\n",
    "        res = []\n",
    "        if len(nums) < 1 or not nums:\n",
    "            return res\n",
    "        start, end = 0, 0\n",
    "        for i in range(1, len(nums)):\n",
    "            if nums[end] + 1 == nums[i]:\n",
    "                end = i\n",
    "            else:\n",
    "                if nums[start] == nums[end]:\n",
    "                    res.append(str(nums[start]))\n",
    "                else:\n",
    "                    res.append(f\"{nums[start]}->{nums[end]}\")\n",
    "                start = end = i\n",
    "        # last interval\n",
    "        if nums[start] == nums[end]:\n",
    "            res.append(str(nums[start]))\n",
    "        else:\n",
    "            res.append(f\"{nums[start]}->{nums[end]}\")\n",
    "        return res\n",
    "\n",
    "# Testcases\n",
    "solution = Solution()\n",
    "print(solution.summaryRanges([0,1,2,4,5,7])) # [\"0->2\",\"4->5\",\"7\"]"
   ]
  },
  {
   "cell_type": "markdown",
   "metadata": {},
   "source": [
    "# 373 Find K Pairs with Smallest Sum\n",
    "\n",
    "You are given two integer arrays nums1 and nums2 sorted in non-decreasing order and an integer k.\n",
    "\n",
    "Define a pair (u, v) which consists of one element from the first array and one element from the second array.\n",
    "\n",
    "Return the k pairs (u1, v1), (u2, v2), ..., (uk, vk) with the smallest sums."
   ]
  },
  {
   "cell_type": "code",
   "execution_count": 2,
   "metadata": {},
   "outputs": [
    {
     "name": "stdout",
     "output_type": "stream",
     "text": [
      "[[1, 2], [1, 4], [1, 6]]\n"
     ]
    }
   ],
   "source": [
    "# Runtime: ???\n",
    "# Space: O(k) as we store only k elements in the heap\n",
    "\n",
    "import heapq\n",
    "class Solution:\n",
    "    def kSmallestPairs(self, nums1: List[int], nums2: List[int], k: int) -> List[List[int]]:\n",
    "        res = []\n",
    "        heap = []\n",
    "        if not nums1 or not nums2:\n",
    "            return res\n",
    "        for i in range(min(k, len(nums1))):\n",
    "            heapq.heappush(heap, (nums2[0]+nums1[i], i, 0))\n",
    "        while heap and len(res) < k:\n",
    "            _sum, i, j = heapq.heappop(heap)\n",
    "            res.append([nums1[i], nums2[j]])\n",
    "            if j + 1 < len(nums2):\n",
    "                heapq.heappush(heap, (nums2[j+1]+nums1[i], i, j+1))\n",
    "        return res\n",
    "\n",
    "soltion = Solution()\n",
    "print(soltion.kSmallestPairs([1,7,11], [2,4,6], 3)) # [[1,2],[1,4],[1,6]]"
   ]
  }
 ],
 "metadata": {
  "kernelspec": {
   "display_name": "base",
   "language": "python",
   "name": "python3"
  },
  "language_info": {
   "codemirror_mode": {
    "name": "ipython",
    "version": 3
   },
   "file_extension": ".py",
   "mimetype": "text/x-python",
   "name": "python",
   "nbconvert_exporter": "python",
   "pygments_lexer": "ipython3",
   "version": "3.11.8"
  }
 },
 "nbformat": 4,
 "nbformat_minor": 2
}

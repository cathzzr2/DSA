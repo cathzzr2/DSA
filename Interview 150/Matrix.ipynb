{
 "cells": [
  {
   "cell_type": "markdown",
   "metadata": {},
   "source": [
    "# 54. Spriral Matrix\n",
    "\n",
    "Given an m x n matrix, return all elements of the matrix in spiral order."
   ]
  },
  {
   "cell_type": "code",
   "execution_count": null,
   "metadata": {},
   "outputs": [],
   "source": [
    "# Runtime: O(m * n) where m is the number of rows and n is the number of columns\n",
    "# Space: O(1) excluding the output list, O(m * n) including the output list\n",
    "\n",
    "from typing import List\n",
    "class Solution:\n",
    "    def spiralOrder(self, matrix: List[List[int]]) -> List[int]:\n",
    "        res = []\n",
    "        if not matrix:\n",
    "            return res\n",
    "        # number of cells\n",
    "        rows, cols = len(matrix), len(matrix[0])\n",
    "        # boundary indices\n",
    "        up, down = 0, rows-1\n",
    "        left, right = 0, cols-1\n",
    "        while True:\n",
    "            # first row, left to right\n",
    "            for i in range(left, right+1):\n",
    "                res.append(matrix[up][i])\n",
    "            up += 1\n",
    "            if up > down:\n",
    "                break\n",
    "            # last col, up to down\n",
    "            for j in range(up, down+1):\n",
    "                res.append(matrix[j][right])\n",
    "            right -= 1\n",
    "            if right < left:\n",
    "                break\n",
    "            # last row, right to left\n",
    "            for k in range(right, left-1, -1):\n",
    "                res.append(matrix[down][k])\n",
    "            down -= 1\n",
    "            if down < up:\n",
    "                break\n",
    "            # first col, down to up\n",
    "            for m in range(down, up-1, -1):\n",
    "                res.append(matrix[m][left])\n",
    "            left += 1\n",
    "            if left > right:\n",
    "                break\n",
    "        return res"
   ]
  }
 ],
 "metadata": {
  "language_info": {
   "name": "python"
  }
 },
 "nbformat": 4,
 "nbformat_minor": 2
}

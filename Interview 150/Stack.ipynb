{
 "cells": [
  {
   "cell_type": "markdown",
   "metadata": {},
   "source": [
    "# 71. Simplify Path\n",
    "\n",
    "You are given an absolute path for a Unix-style file system, which always begins with a slash '/'. Your task is to transform this absolute path into its simplified canonical path.\n",
    "\n",
    "\n",
    "The rules of a Unix-style file system are as follows:\n",
    "\n",
    "\n",
    "A single period '.' represents the current directory.\n",
    "\n",
    "\n",
    "A double period '..' represents the previous/parent directory.\n",
    "\n",
    "\n",
    "Multiple consecutive slashes such as '//' and '///' are treated as a single slash '/'.\n",
    "\n",
    "\n",
    "Any sequence of periods that does not match the rules above should be treated as a valid directory or file name. For example, '...' and '....' are valid directory or file names.\n",
    "\n",
    "\n",
    "The simplified canonical path should follow these rules:\n",
    "\n",
    "\n",
    "The path must start with a single slash '/'.\n",
    "\n",
    "\n",
    "Directories within the path must be separated by exactly one slash '/'.\n",
    "\n",
    "\n",
    "The path must not end with a slash '/', unless it is the root directory.\n",
    "\n",
    "\n",
    "The path must not have any single or double periods ('.' and '..') used to denote current or parent directories.\n",
    "\n",
    "\n",
    "Return the simplified canonical path."
   ]
  },
  {
   "cell_type": "code",
   "execution_count": 2,
   "metadata": {},
   "outputs": [
    {
     "name": "stdout",
     "output_type": "stream",
     "text": [
      "/\n"
     ]
    }
   ],
   "source": [
    "class Solution:\n",
    "    def simplifyPath(self, path: str) -> str:\n",
    "        stack = []\n",
    "        paths = path.split('/')\n",
    "        for path in paths:\n",
    "            if path == \"\" or path == \".\":\n",
    "                continue\n",
    "            elif path == \"..\":\n",
    "                if stack: # not empty\n",
    "                    stack.pop()\n",
    "            else:\n",
    "                stack.append(path)\n",
    "        return \"/\" + \"/\".join(stack)\n",
    "\n",
    "sol = Solution()\n",
    "path = \"/home/..\" # when the stack is empty\n",
    "print(sol.simplifyPath(path))"
   ]
  }
 ],
 "metadata": {
  "kernelspec": {
   "display_name": "base",
   "language": "python",
   "name": "python3"
  },
  "language_info": {
   "codemirror_mode": {
    "name": "ipython",
    "version": 3
   },
   "file_extension": ".py",
   "mimetype": "text/x-python",
   "name": "python",
   "nbconvert_exporter": "python",
   "pygments_lexer": "ipython3",
   "version": "3.11.8"
  }
 },
 "nbformat": 4,
 "nbformat_minor": 2
}
